{
 "cells": [
  {
   "cell_type": "markdown",
   "metadata": {},
   "source": [
    "# Simon Initial Investigation & Implementation of Bag-of-Words"
   ]
  },
  {
   "cell_type": "markdown",
   "metadata": {},
   "source": [
    "## Learning Pytorch: Tutorial\n",
    "As of this point, I have nearly exclusively worked with TensorFlow. With this being the first week of the class, I have decided I would like to try out using Pytorch to get a feel and develop a preference. Before I dive deeper into an application to the concepts we have learned in class, I have first followed a tutorial (https://pytorch.org/tutorials/beginner/deep_learning_nlp_tutorial.html) to get started with PyTorch. Below I have performed some of the concepts from the tutorial, and have also layed out and labeled the main concepts for furture reference (somewhat like and encyclopedia). "
   ]
  },
  {
   "cell_type": "code",
   "execution_count": 1,
   "metadata": {},
   "outputs": [
    {
     "data": {
      "text/plain": [
       "<torch._C.Generator at 0x7f7ff95926b0>"
      ]
     },
     "execution_count": 1,
     "metadata": {},
     "output_type": "execute_result"
    }
   ],
   "source": [
    "import torch\n",
    "torch.manual_seed(1)"
   ]
  },
  {
   "cell_type": "markdown",
   "metadata": {},
   "source": [
    "### Fundamentals\n",
    "#### Initializing Tensors"
   ]
  },
  {
   "cell_type": "code",
   "execution_count": 2,
   "metadata": {},
   "outputs": [
    {
     "name": "stdout",
     "output_type": "stream",
     "text": [
      "tensor([1., 2., 3.])\n",
      "tensor([[1., 2., 3.],\n",
      "        [4., 5., 6.]])\n",
      "tensor([[[1., 2.],\n",
      "         [3., 4.]],\n",
      "\n",
      "        [[5., 6.],\n",
      "         [7., 8.]]])\n",
      "tensor([[0.6614, 0.2669],\n",
      "        [0.0617, 0.6213]])\n",
      "tensor([[[0., 0., 0., 0.],\n",
      "         [0., 0., 0., 0.],\n",
      "         [0., 0., 0., 0.]],\n",
      "\n",
      "        [[0., 0., 0., 0.],\n",
      "         [0., 0., 0., 0.],\n",
      "         [0., 0., 0., 0.]]])\n"
     ]
    }
   ],
   "source": [
    "vec=torch.tensor([1.,2.,3.]) #vector\n",
    "print(vec)\n",
    "mat=torch.tensor([[1.,2.,3.],[4.,5.,6.]]) #matrix\n",
    "print(mat)\n",
    "ten3D=torch.tensor([[[1., 2.], [3., 4.]],[[5., 6.], [7., 8.]]]) #3D tensor\n",
    "print(ten3D)\n",
    "randomV=torch.randn(2, 2) #random tensor\n",
    "print(randomV)\n",
    "zeros=torch.zeros(2,3,4) #zero tensor\n",
    "print(zeros)"
   ]
  },
  {
   "cell_type": "markdown",
   "metadata": {},
   "source": [
    "#### Indexing"
   ]
  },
  {
   "cell_type": "code",
   "execution_count": 3,
   "metadata": {},
   "outputs": [
    {
     "name": "stdout",
     "output_type": "stream",
     "text": [
      "tensor(1.)\n",
      "1.0\n",
      "tensor([1., 2., 3.])\n",
      "4.0\n"
     ]
    }
   ],
   "source": [
    "print(vec[0])\n",
    "print(vec[0].item()) #vec\n",
    "print(mat[0])\n",
    "print(ten3D[0,1,1].item())#order of indexing"
   ]
  },
  {
   "cell_type": "markdown",
   "metadata": {},
   "source": [
    "#### Basic Tensor Operations"
   ]
  },
  {
   "cell_type": "code",
   "execution_count": 4,
   "metadata": {},
   "outputs": [
    {
     "name": "stdout",
     "output_type": "stream",
     "text": [
      "tensor([5, 7, 9])\n",
      "tensor([ 4, 10, 18])\n",
      "tensor([1, 2, 3, 4, 5, 6])\n",
      "tensor(21)\n",
      "tensor([[1, 2, 3],\n",
      "        [4, 5, 6]])\n"
     ]
    }
   ],
   "source": [
    "x=torch.tensor([1,2,3])\n",
    "y=torch.tensor([4,5,6])\n",
    "\n",
    "print(x+y) #addition\n",
    "\n",
    "print(x*y) #Elementwise multiplicaiton\n",
    "\n",
    "temp=torch.cat([x,y]) #concatination\n",
    "print(temp)\n",
    "\n",
    "print(sum(temp)) #summation of elements\n",
    "\n",
    "print(temp.view(2,3)) #reshaping"
   ]
  },
  {
   "cell_type": "markdown",
   "metadata": {},
   "source": [
    "#### Computation Graphs and Automatic Differentiation\n",
    "PyTorch can perform automatic backpropogation gradients as long as the data is specified in how it is connected so gradients can be computed. To flag that we want the data to be followed for gradient determination and backpropogation, we specify \"requires_grad=True\". Notice how the specified grad_fn understands what operation is being processed in the previous computation. "
   ]
  },
  {
   "cell_type": "code",
   "execution_count": 5,
   "metadata": {},
   "outputs": [
    {
     "name": "stdout",
     "output_type": "stream",
     "text": [
      "tensor([5., 7., 9.], grad_fn=<AddBackward0>)\n",
      "tensor(5., grad_fn=<SelectBackward0>)\n",
      "5.0\n",
      "<AddBackward0 object at 0x7f7fd81dcb50>\n",
      "<SumBackward0 object at 0x7f7fd81dcb50>\n",
      "tensor([1., 1., 1.])\n",
      "None\n"
     ]
    }
   ],
   "source": [
    "x=torch.tensor([1.,2.,3.], requires_grad=True)\n",
    "y=torch.tensor([4.,5.,6.], requires_grad=True)\n",
    "z=x+y\n",
    "\n",
    "print(z) #Now we have information about the gradient funciton for backprop\n",
    "print(z[0])\n",
    "print(z[0].item())\n",
    "print(z.grad_fn) #Add backward\n",
    "s=z.sum()\n",
    "print(s.grad_fn) #Sum backward\n",
    "\n",
    "s.backward() #backprop\n",
    "print(x.grad)\n",
    "\n",
    "z=z.detach() #Detach from history\n",
    "print(z.grad_fn)"
   ]
  },
  {
   "cell_type": "markdown",
   "metadata": {},
   "source": [
    "### Using Standard Deep Learning Mechanics"
   ]
  },
  {
   "cell_type": "code",
   "execution_count": 6,
   "metadata": {},
   "outputs": [
    {
     "data": {
      "text/plain": [
       "<torch._C.Generator at 0x7f7ff95926b0>"
      ]
     },
     "execution_count": 6,
     "metadata": {},
     "output_type": "execute_result"
    }
   ],
   "source": [
    "import torch\n",
    "import torch.nn as nn\n",
    "import torch.nn.functional as F\n",
    "import torch.optim as optim\n",
    "torch.manual_seed(1)"
   ]
  },
  {
   "cell_type": "markdown",
   "metadata": {},
   "source": [
    "#### Affine Maping: Multilayered Neural Networks"
   ]
  },
  {
   "cell_type": "code",
   "execution_count": 7,
   "metadata": {},
   "outputs": [
    {
     "name": "stdout",
     "output_type": "stream",
     "text": [
      "tensor([[-1.1948,  0.0250, -0.7627,  1.3969, -0.3245],\n",
      "        [ 0.2879,  1.0579,  0.9621,  0.3935,  1.1322]])\n",
      "tensor([[ 0.1755, -0.3268, -0.5069],\n",
      "        [-0.6602,  0.2260,  0.1089]], grad_fn=<AddmmBackward0>)\n",
      "tensor([[0.0000, 0.0250, 0.0000, 1.3969, 0.0000],\n",
      "        [0.2879, 1.0579, 0.9621, 0.3935, 1.1322]])\n"
     ]
    }
   ],
   "source": [
    "lin = nn.Linear(5, 3) # Net from layer of dim 5 to dim 3\n",
    "\n",
    "data = torch.randn(2, 5) \n",
    "print(data)\n",
    "print(lin(data))  # linearly mapped to next layer\n",
    "\n",
    "print(F.relu(data)) #non-linearity-- in this case ReLU"
   ]
  },
  {
   "cell_type": "markdown",
   "metadata": {},
   "source": [
    "#### Softmax: Turning Tensor into probability distribution"
   ]
  },
  {
   "cell_type": "code",
   "execution_count": 8,
   "metadata": {},
   "outputs": [
    {
     "name": "stdout",
     "output_type": "stream",
     "text": [
      "tensor([-0.5404, -2.2102,  2.1130, -0.0040,  1.3800])\n",
      "tensor([0.0418, 0.0079, 0.5936, 0.0715, 0.2852])\n",
      "tensor(1.)\n"
     ]
    }
   ],
   "source": [
    "data = torch.randn(5)\n",
    "print(data)\n",
    "print(F.softmax(data, dim=0)) #Next layer becomes prob distribution\n",
    "print(F.softmax(data, dim=0).sum()) "
   ]
  },
  {
   "cell_type": "markdown",
   "metadata": {},
   "source": [
    "#### Tutorial Example: Bag-of-Words Spanish or English (Logistic Regression)"
   ]
  },
  {
   "cell_type": "code",
   "execution_count": 9,
   "metadata": {},
   "outputs": [
    {
     "name": "stdout",
     "output_type": "stream",
     "text": [
      "{'me': 0, 'gusta': 1, 'comer': 2, 'en': 3, 'la': 4, 'cafeteria': 5, 'Give': 6, 'it': 7, 'to': 8, 'No': 9, 'creo': 10, 'que': 11, 'sea': 12, 'una': 13, 'buena': 14, 'idea': 15, 'is': 16, 'not': 17, 'a': 18, 'good': 19, 'get': 20, 'lost': 21, 'at': 22, 'Yo': 23, 'si': 24, 'on': 25}\n",
      "Parameter containing:\n",
      "tensor([[-0.1885, -0.0935,  0.1064, -0.0477,  0.1953,  0.1572, -0.0092, -0.1309,\n",
      "          0.1194,  0.0609, -0.1268,  0.1274,  0.1191,  0.1739, -0.1099, -0.0323,\n",
      "         -0.0038,  0.0286, -0.1488, -0.1392,  0.1067, -0.0460,  0.0958,  0.0112,\n",
      "          0.0644,  0.0431],\n",
      "        [ 0.0713,  0.0972, -0.1816,  0.0987, -0.1379, -0.1480,  0.0119, -0.0334,\n",
      "          0.1152, -0.1136, -0.1743,  0.1427, -0.0291,  0.1103,  0.0630, -0.1471,\n",
      "          0.0394,  0.0471, -0.1313, -0.0931,  0.0669,  0.0351, -0.0834, -0.0594,\n",
      "          0.1796, -0.0363]], requires_grad=True)\n",
      "Parameter containing:\n",
      "tensor([0.1106, 0.0849], requires_grad=True)\n",
      "TRAINING...\n",
      "tensor([[-0.6866, -0.6998]])\n",
      "tensor([[-0.8991, -0.5225]])\n",
      "tensor([-0.1268, -0.1743], grad_fn=<SelectBackward0>)\n",
      "TESTING...\n",
      "tensor([[-0.1496, -1.9739]])\n",
      "tensor([[-3.0060, -0.0508]])\n",
      "Classifying: creo\n",
      "tensor([ 0.2876, -0.5887], grad_fn=<SelectBackward0>)\n"
     ]
    }
   ],
   "source": [
    "#Establish training data\n",
    "data = [(\"me gusta comer en la cafeteria\".split(), \"SPANISH\"),\n",
    "        (\"Give it to me\".split(), \"ENGLISH\"),\n",
    "        (\"No creo que sea una buena idea\".split(), \"SPANISH\"),\n",
    "        (\"No it is not a good idea to get lost at sea\".split(), \"ENGLISH\")]\n",
    "\n",
    "#Test Data\n",
    "test_data = [(\"Yo creo que si\".split(), \"SPANISH\"),\n",
    "             (\"it is lost on me\".split(), \"ENGLISH\")]\n",
    "\n",
    "#Add words to our dictionary\n",
    "word_to_ix = {}\n",
    "for sentence, _ in data + test_data:\n",
    "    for word in sentence:\n",
    "        if word not in word_to_ix:\n",
    "            word_to_ix[word] = len(word_to_ix)\n",
    "print(word_to_ix)\n",
    "\n",
    "VOCAB_SIZE = len(word_to_ix)\n",
    "NUM_LABELS = 2 #Spanish or English\n",
    "\n",
    "##########First Define Model###############\n",
    "\n",
    "class BoWClassifier(nn.Module):  # inheriting from nn.Module!\n",
    "\n",
    "    def __init__(self, num_labels, vocab_size):\n",
    "        # calls the init function of nn.Module.  Dont get confused by syntax,\n",
    "        # just always do it in an nn.Module\n",
    "        super(BoWClassifier, self).__init__()\n",
    "\n",
    "        self.linear = nn.Linear(vocab_size, num_labels) #linear affine map\n",
    "\n",
    "    def forward(self, bow_vec):\n",
    "        temp=self.linear(bow_vec)\n",
    "        return F.log_softmax(temp, dim=1) # 1 dimention for prob distribution\n",
    "\n",
    "\n",
    "def make_bow_vector(sentence, word_to_ix):\n",
    "    vec = torch.zeros(len(word_to_ix))\n",
    "    for word in sentence:\n",
    "        vec[word_to_ix[word]] += 1 #count up how many times we hit the word of interest\n",
    "    return vec.view(1, -1)\n",
    "\n",
    "\n",
    "def make_target(label, label_to_ix):\n",
    "    return torch.LongTensor([label_to_ix[label]]) #desired classification\n",
    "\n",
    "\n",
    "model = BoWClassifier(NUM_LABELS, VOCAB_SIZE) #define model\n",
    "\n",
    "# the model knows its parameters.  The first output below is A, the second is b.\n",
    "# Whenever you assign a component to a class variable in the __init__ function\n",
    "# of a module, which was done with the line\n",
    "# self.linear = nn.Linear(...)\n",
    "# Then through some Python magic from the PyTorch devs, your module\n",
    "# (in this case, BoWClassifier) will store knowledge of the nn.Linear's parameters\n",
    "for param in model.parameters():\n",
    "    print(param)\n",
    "\n",
    "##########Now Training the data############\n",
    "print(\"TRAINING...\")\n",
    "label_to_ix = {\"SPANISH\": 0, \"ENGLISH\": 1} #define categories\n",
    "# Run on test data before we train, just to see a before-and-after\n",
    "with torch.no_grad():\n",
    "    for instance, label in test_data:\n",
    "        bow_vec = make_bow_vector(instance, word_to_ix)\n",
    "        log_probs = model(bow_vec)\n",
    "        print(log_probs)\n",
    "# Print the matrix column corresponding to \"creo\"\n",
    "print(next(model.parameters())[:, word_to_ix[\"creo\"]])\n",
    "\n",
    "\n",
    "loss_function = nn.NLLLoss() #define loss function\n",
    "optimizer = optim.SGD(model.parameters(), lr=0.1) #define optimizer\n",
    "\n",
    "#Pass over training set each epoch\n",
    "for epoch in range(100):\n",
    "    count=0\n",
    "    for instance, label in data:\n",
    "        model.zero_grad() # Re-clear all gradients before restarting an epoch\n",
    "        \n",
    "        #make vocab vector and define targets\n",
    "        bow_vec = make_bow_vector(instance, word_to_ix)\n",
    "        target = make_target(label, label_to_ix)\n",
    "\n",
    "        log_probs = model(bow_vec) #run through model\n",
    "\n",
    "        # Step 4. Compute the loss, gradients, and update the parameters by\n",
    "        # calling optimizer.step()\n",
    "        loss = loss_function(log_probs, target) #compute loss\n",
    "        loss.backward() #read gradients\n",
    "        optimizer.step() #update parameters from new gradients\n",
    "        count=count+1\n",
    "    #print('Epoch: ',epoch)\n",
    "    #print('      Total ',count,' Instances.')\n",
    "\n",
    "#################Finally Test Data#######################\n",
    "print(\"TESTING...\")\n",
    "with torch.no_grad():\n",
    "    for instance, label in test_data:\n",
    "        bow_vec = make_bow_vector(instance, word_to_ix)\n",
    "        log_probs = model(bow_vec)\n",
    "        print(log_probs)\n",
    "\n",
    "print(\"Classifying: creo\")\n",
    "print(next(model.parameters())[:, word_to_ix[\"creo\"]])"
   ]
  },
  {
   "cell_type": "markdown",
   "metadata": {},
   "source": [
    "From the above exercise. We can see that the final probability of confidence index increased for spanish once we trained the data! The probability is still low because we have used a very simple model (linear reg), a very elementary loss function function (negative log likelihood), and a low level optimizer (SGD)."
   ]
  },
  {
   "cell_type": "markdown",
   "metadata": {},
   "source": [
    "## Implementing Continuous Bag of Words: Changing loss functions\n",
    "After following the tutorial and implementing the simple NN above, I want to round out my skills and realizations by implementing another NN and comparing what happens when I change optimizers using PyTorch. To do this I will be implementing the Continuous Bag of Words (CBOW) model from class that predicts words given the context of a few words before and after the target word. Often times, CBOW is used to quickly train word embeddings as initializaitons of more complex embeddings (pretraining). By \"embeddings\" I mean the computer interpretation (by some vector of numbers) to our target words and likely their trained meaning and context. The function used in CBOW is show below where $q_w$ is the embedding for word w. $$-log[p(w_{i}|C)] = -log [\\text{Softmax}(A(\\sum_{w\\in C}q_{w})+b)]$$ "
   ]
  },
  {
   "cell_type": "markdown",
   "metadata": {},
   "source": [
    "### Initial Implementation\n",
    "The following code is a solution to the problem prompted by the last example in https://pytorch.org/tutorials/beginner/nlp/word_embeddings_tutorial.html#sphx-glr-beginner-nlp-word-embeddings-tutorial-py."
   ]
  },
  {
   "cell_type": "code",
   "execution_count": 10,
   "metadata": {},
   "outputs": [
    {
     "name": "stdout",
     "output_type": "stream",
     "text": [
      "[(['are', 'We', 'to', 'study'], 'about'), (['about', 'are', 'study', 'the'], 'to'), (['to', 'about', 'the', 'idea'], 'study'), (['study', 'to', 'idea', 'of'], 'the'), (['the', 'study', 'of', 'a'], 'idea')]\n",
      "Raw Text: We are about to study the idea of a computational process. Computational processes are abstract beings that inhabit computers. As they evolve, processes manipulate other abstract things called data. The evolution of a process is directed by a pattern of rules called a program. People create programs to direct processes. In effect, we conjure the spirits of the computer with our spells.\n",
      "\n",
      "Context: ['conjure', 'the', 'of', 'the']\n",
      "\n",
      "Prediction: spirits\n",
      "Confidence: 75%\n"
     ]
    },
    {
     "data": {
      "image/png": "[encoded data removed]",
      "text/plain": [
       "<Figure size 432x288 with 1 Axes>"
      ]
     },
     "metadata": {
      "needs_background": "light"
     },
     "output_type": "display_data"
    }
   ],
   "source": [
    "import torch\n",
    "import torch.nn as nn\n",
    "import math as m\n",
    "import matplotlib.pyplot as plt\n",
    "import numpy as np\n",
    "\n",
    "\n",
    "def make_context_vector(context, word_to_ix): #make vector of surrounding words\n",
    "    idxs = [word_to_ix[w] for w in context] \n",
    "    return torch.tensor(idxs, dtype=torch.long)\n",
    "\n",
    "CONTEXT_SIZE = 2  # 2 words to the left, 2 to the right\n",
    "EMDEDDING_DIM = 100\n",
    "\n",
    "raw_text = \"\"\"We are about to study the idea of a computational process.\n",
    "Computational processes are abstract beings that inhabit computers.\n",
    "As they evolve, processes manipulate other abstract things called data.\n",
    "The evolution of a process is directed by a pattern of rules\n",
    "called a program. People create programs to direct processes. In effect,\n",
    "we conjure the spirits of the computer with our spells.\"\"\".split()\n",
    "\n",
    "vocab = set(raw_text) #Make vocab dictionary as subset of full raw text\n",
    "vocab_size = len(vocab)\n",
    "#print(len(raw_text))\n",
    "#print(len(vocab))\n",
    "\n",
    "word_to_ix = {word:ix for ix, word in enumerate(vocab)} #associate word with index of vocab vec\n",
    "ix_to_word = {ix:word for ix, word in enumerate(vocab)}\n",
    "\n",
    "\n",
    "#create training data\n",
    "data = []\n",
    "for i in range(CONTEXT_SIZE, len(raw_text) - CONTEXT_SIZE):\n",
    "    context = (\n",
    "        [raw_text[i - j - 1] for j in range(CONTEXT_SIZE)]\n",
    "        + [raw_text[i + j + 1] for j in range(CONTEXT_SIZE)]\n",
    "    )\n",
    "    target = raw_text[i]\n",
    "    data.append((context, target))\n",
    "print(data[:5])\n",
    "\n",
    "class CBOW(torch.nn.Module):\n",
    "    def __init__(self, vocab_size, embedding_dim):\n",
    "        super(CBOW, self).__init__()\n",
    "\n",
    "        #out: 1 x emdedding_dim\n",
    "        self.embeddings = nn.Embedding(vocab_size, embedding_dim)\n",
    "        self.linear1 = nn.Linear(embedding_dim, 128)\n",
    "        self.activation_function1 = nn.ReLU()\n",
    "        \n",
    "        #out: 1 x vocab_size\n",
    "        self.linear2 = nn.Linear(128, vocab_size)\n",
    "        self.activation_function2 = nn.LogSoftmax(dim = -1)\n",
    "        \n",
    "\n",
    "    def forward(self, inputs):\n",
    "        embeds = sum(self.embeddings(inputs)).view(1,-1) #make linear vector\n",
    "        out = self.linear1(embeds)\n",
    "        out = self.activation_function1(out)\n",
    "        out = self.linear2(out)\n",
    "        out = self.activation_function2(out)\n",
    "        return out\n",
    "\n",
    "    def get_word_emdedding(self, word):\n",
    "        word = torch.tensor([word_to_ix[word]])\n",
    "        return self.embeddings(word).view(1,-1)\n",
    "\n",
    "\n",
    "model = CBOW(vocab_size, EMDEDDING_DIM) #Model is above using linear and ReLU like I previously practiced in PyTorch\n",
    "loss_function = nn.NLLLoss() #Negative log likelihood loss function\n",
    "optimizer = torch.optim.SGD(model.parameters(), lr=0.001) #SGD Optimizer\n",
    "\n",
    "#TRAINING\n",
    "for epoch in range(50):\n",
    "    total_loss = 0 #count up total loss on the epoch\n",
    "\n",
    "    for context, target in data:\n",
    "        context_vector = make_context_vector(context, word_to_ix)  \n",
    "        log_probs = model(context_vector)\n",
    "        total_loss += loss_function(log_probs, torch.tensor([word_to_ix[target]]))\n",
    "\n",
    "    optimizer.zero_grad() #reset gradient\n",
    "    total_loss.backward()\n",
    "    optimizer.step()\n",
    "\n",
    "#TESTING\n",
    "#context = ['People','create','to', 'direct']\n",
    "#context=['other','abstract','called','data.']\n",
    "context=['conjure','the','of','the']\n",
    "context_vector = make_context_vector(context, word_to_ix)\n",
    "a = model(context_vector)\n",
    "\n",
    "\n",
    "#Print result\n",
    "print(f'Raw Text: {\" \".join(raw_text)}\\n')\n",
    "print(f'Context: {context}\\n')\n",
    "print(f'Prediction: {ix_to_word[torch.argmax(a[0]).item()]}')\n",
    "conf=100*m.exp(max(a[0]))\n",
    "print(f'Confidence: {m.trunc(conf)}%')\n",
    "\n",
    "#PLOT\n",
    "wordVec=[]\n",
    "for i in range(len(a[0])):\n",
    "    wordVec.append(i)\n",
    "plotVec=a.detach().numpy()\n",
    "plt.bar(wordVec,100*np.exp(plotVec[0]))\n",
    "plt.title('Probability Distribution')\n",
    "plt.xlabel('Embedded word in vocabulary')\n",
    "plt.ylabel('Probability (Confidence)')\n",
    "plt.show()"
   ]
  },
  {
   "cell_type": "markdown",
   "metadata": {},
   "source": [
    "After successfully building this NN model, training, and testing the results, I am now interested in what changing the different components of the NN I built. This is done below by replacing the loss function and optimizers by ones I know to be generally more desireable.\n",
    "\n",
    "### Replacing SGD with Adam optimizer "
   ]
  },
  {
   "cell_type": "code",
   "execution_count": 11,
   "metadata": {},
   "outputs": [
    {
     "name": "stdout",
     "output_type": "stream",
     "text": [
      "[(['are', 'We', 'to', 'study'], 'about'), (['about', 'are', 'study', 'the'], 'to'), (['to', 'about', 'the', 'idea'], 'study'), (['study', 'to', 'idea', 'of'], 'the'), (['the', 'study', 'of', 'a'], 'idea')]\n",
      "Raw Text: We are about to study the idea of a computational process. Computational processes are abstract beings that inhabit computers. As they evolve, processes manipulate other abstract things called data. The evolution of a process is directed by a pattern of rules called a program. People create programs to direct processes. In effect, we conjure the spirits of the computer with our spells.\n",
      "\n",
      "Context: ['conjure', 'the', 'of', 'the']\n",
      "\n",
      "Prediction: spirits\n",
      "Confidence: 94%\n"
     ]
    },
    {
     "data": {
      "image/png": "[encoded data removed]",
      "text/plain": [
       "<Figure size 432x288 with 1 Axes>"
      ]
     },
     "metadata": {
      "needs_background": "light"
     },
     "output_type": "display_data"
    }
   ],
   "source": [
    "import torch\n",
    "import torch.nn as nn\n",
    "import math as m\n",
    "\n",
    "def make_context_vector(context, word_to_ix): \n",
    "    idxs = [word_to_ix[w] for w in context] \n",
    "    return torch.tensor(idxs, dtype=torch.long)\n",
    "\n",
    "CONTEXT_SIZE = 2 \n",
    "EMDEDDING_DIM = 100\n",
    "\n",
    "raw_text = \"\"\"We are about to study the idea of a computational process.\n",
    "Computational processes are abstract beings that inhabit computers.\n",
    "As they evolve, processes manipulate other abstract things called data.\n",
    "The evolution of a process is directed by a pattern of rules\n",
    "called a program. People create programs to direct processes. In effect,\n",
    "we conjure the spirits of the computer with our spells.\"\"\".split()\n",
    "\n",
    "vocab = set(raw_text)\n",
    "vocab_size = len(vocab)\n",
    "#print(len(raw_text))\n",
    "#print(len(vocab))\n",
    "\n",
    "word_to_ix = {word:ix for ix, word in enumerate(vocab)} \n",
    "ix_to_word = {ix:word for ix, word in enumerate(vocab)}\n",
    "\n",
    "\n",
    "#create training data\n",
    "data = []\n",
    "for i in range(CONTEXT_SIZE, len(raw_text) - CONTEXT_SIZE):\n",
    "    context = (\n",
    "        [raw_text[i - j - 1] for j in range(CONTEXT_SIZE)]\n",
    "        + [raw_text[i + j + 1] for j in range(CONTEXT_SIZE)]\n",
    "    )\n",
    "    target = raw_text[i]\n",
    "    data.append((context, target))\n",
    "print(data[:5])\n",
    "\n",
    "class CBOW(torch.nn.Module):\n",
    "    def __init__(self, vocab_size, embedding_dim):\n",
    "        super(CBOW, self).__init__()\n",
    "\n",
    "        #out: 1 x emdedding_dim\n",
    "        self.embeddings = nn.Embedding(vocab_size, embedding_dim)\n",
    "        self.linear1 = nn.Linear(embedding_dim, 128)\n",
    "        self.activation_function1 = nn.ReLU()\n",
    "        \n",
    "        #out: 1 x vocab_size\n",
    "        self.linear2 = nn.Linear(128, vocab_size)\n",
    "        self.activation_function2 = nn.LogSoftmax(dim = -1)\n",
    "        \n",
    "\n",
    "    def forward(self, inputs):\n",
    "        embeds = sum(self.embeddings(inputs)).view(1,-1) \n",
    "        out = self.linear1(embeds)\n",
    "        out = self.activation_function1(out)\n",
    "        out = self.linear2(out)\n",
    "        out = self.activation_function2(out)\n",
    "        return out\n",
    "\n",
    "    def get_word_emdedding(self, word):\n",
    "        word = torch.tensor([word_to_ix[word]])\n",
    "        return self.embeddings(word).view(1,-1)\n",
    "\n",
    "\n",
    "model = CBOW(vocab_size, EMDEDDING_DIM) \n",
    "loss_function = nn.NLLLoss() #\n",
    "optimizer = torch.optim.Adam(model.parameters(), lr=0.001) #Adam Optimizer\n",
    "\n",
    "\n",
    "for epoch in range(50):\n",
    "    total_loss = 0 \n",
    "\n",
    "    for context, target in data:\n",
    "        context_vector = make_context_vector(context, word_to_ix)  \n",
    "        log_probs = model(context_vector)\n",
    "        total_loss += loss_function(log_probs, torch.tensor([word_to_ix[target]]))\n",
    "\n",
    "    optimizer.zero_grad()\n",
    "    total_loss.backward()\n",
    "    optimizer.step()\n",
    "\n",
    "\n",
    "\n",
    "#context = ['People','create','to', 'direct']\n",
    "#context=['other','abstract','called','data.']\n",
    "context=['conjure','the','of','the']\n",
    "context_vector = make_context_vector(context, word_to_ix)\n",
    "a = model(context_vector)\n",
    "\n",
    "\n",
    "#Print result\n",
    "print(f'Raw Text: {\" \".join(raw_text)}\\n')\n",
    "print(f'Context: {context}\\n')\n",
    "print(f'Prediction: {ix_to_word[torch.argmax(a[0]).item()]}')\n",
    "conf=100*m.exp(max(a[0]))\n",
    "print(f'Confidence: {m.trunc(conf)}%')\n",
    "\n",
    "wordVec=[]\n",
    "for i in range(len(a[0])):\n",
    "    wordVec.append(i)\n",
    "plotVec=a.detach().numpy()\n",
    "plt.bar(wordVec,100*np.exp(plotVec[0]))\n",
    "plt.title('Probability Distribution')\n",
    "plt.xlabel('Embedded word in vocabulary')\n",
    "plt.ylabel('Probability (Confidence)')\n",
    "plt.show()"
   ]
  },
  {
   "cell_type": "markdown",
   "metadata": {},
   "source": [
    "As seen above, the use of Adam increased our confidence about 20%, which was expected.\n",
    "### Replacing SGD with RMSProp optimizer "
   ]
  },
  {
   "cell_type": "code",
   "execution_count": 12,
   "metadata": {},
   "outputs": [
    {
     "name": "stdout",
     "output_type": "stream",
     "text": [
      "[(['are', 'We', 'to', 'study'], 'about'), (['about', 'are', 'study', 'the'], 'to'), (['to', 'about', 'the', 'idea'], 'study'), (['study', 'to', 'idea', 'of'], 'the'), (['the', 'study', 'of', 'a'], 'idea')]\n",
      "Raw Text: We are about to study the idea of a computational process. Computational processes are abstract beings that inhabit computers. As they evolve, processes manipulate other abstract things called data. The evolution of a process is directed by a pattern of rules called a program. People create programs to direct processes. In effect, we conjure the spirits of the computer with our spells.\n",
      "\n",
      "Context: ['conjure', 'the', 'of', 'the']\n",
      "\n",
      "Prediction: spirits\n",
      "Confidence: 99%\n"
     ]
    },
    {
     "data": {
      "image/png": "[encoded data removed]",
      "text/plain": [
       "<Figure size 432x288 with 1 Axes>"
      ]
     },
     "metadata": {
      "needs_background": "light"
     },
     "output_type": "display_data"
    }
   ],
   "source": [
    "import torch\n",
    "import torch.nn as nn\n",
    "import math as m\n",
    "\n",
    "def make_context_vector(context, word_to_ix): \n",
    "    idxs = [word_to_ix[w] for w in context] \n",
    "    return torch.tensor(idxs, dtype=torch.long)\n",
    "\n",
    "CONTEXT_SIZE = 2 \n",
    "EMDEDDING_DIM = 100\n",
    "\n",
    "raw_text = \"\"\"We are about to study the idea of a computational process.\n",
    "Computational processes are abstract beings that inhabit computers.\n",
    "As they evolve, processes manipulate other abstract things called data.\n",
    "The evolution of a process is directed by a pattern of rules\n",
    "called a program. People create programs to direct processes. In effect,\n",
    "we conjure the spirits of the computer with our spells.\"\"\".split()\n",
    "\n",
    "vocab = set(raw_text)\n",
    "vocab_size = len(vocab)\n",
    "#print(len(raw_text))\n",
    "#print(len(vocab))\n",
    "\n",
    "word_to_ix = {word:ix for ix, word in enumerate(vocab)} \n",
    "ix_to_word = {ix:word for ix, word in enumerate(vocab)}\n",
    "\n",
    "\n",
    "#create training data\n",
    "data = []\n",
    "for i in range(CONTEXT_SIZE, len(raw_text) - CONTEXT_SIZE):\n",
    "    context = (\n",
    "        [raw_text[i - j - 1] for j in range(CONTEXT_SIZE)]\n",
    "        + [raw_text[i + j + 1] for j in range(CONTEXT_SIZE)]\n",
    "    )\n",
    "    target = raw_text[i]\n",
    "    data.append((context, target))\n",
    "print(data[:5])\n",
    "\n",
    "class CBOW(torch.nn.Module):\n",
    "    def __init__(self, vocab_size, embedding_dim):\n",
    "        super(CBOW, self).__init__()\n",
    "\n",
    "        #out: 1 x emdedding_dim\n",
    "        self.embeddings = nn.Embedding(vocab_size, embedding_dim)\n",
    "        self.linear1 = nn.Linear(embedding_dim, 128)\n",
    "        self.activation_function1 = nn.ReLU()\n",
    "        \n",
    "        #out: 1 x vocab_size\n",
    "        self.linear2 = nn.Linear(128, vocab_size)\n",
    "        self.activation_function2 = nn.LogSoftmax(dim = -1)\n",
    "        \n",
    "\n",
    "    def forward(self, inputs):\n",
    "        embeds = sum(self.embeddings(inputs)).view(1,-1) \n",
    "        out = self.linear1(embeds)\n",
    "        out = self.activation_function1(out)\n",
    "        out = self.linear2(out)\n",
    "        out = self.activation_function2(out)\n",
    "        return out\n",
    "\n",
    "    def get_word_emdedding(self, word):\n",
    "        word = torch.tensor([word_to_ix[word]])\n",
    "        return self.embeddings(word).view(1,-1)\n",
    "\n",
    "\n",
    "model = CBOW(vocab_size, EMDEDDING_DIM) \n",
    "loss_function = nn.NLLLoss() \n",
    "optimizer = torch.optim.RMSprop(model.parameters(), lr=0.001) #RMSProp\n",
    "\n",
    "\n",
    "for epoch in range(50):\n",
    "    total_loss = 0 \n",
    "\n",
    "    for context, target in data:\n",
    "        context_vector = make_context_vector(context, word_to_ix)  \n",
    "        log_probs = model(context_vector)\n",
    "        total_loss += loss_function(log_probs, torch.tensor([word_to_ix[target]]))\n",
    "\n",
    "    optimizer.zero_grad() \n",
    "    total_loss.backward()\n",
    "    optimizer.step()\n",
    "\n",
    "\n",
    "#context = ['People','create','to', 'direct']\n",
    "#context=['other','abstract','called','data.']\n",
    "context=['conjure','the','of','the']\n",
    "context_vector = make_context_vector(context, word_to_ix)\n",
    "a = model(context_vector)\n",
    "\n",
    "\n",
    "#Print result\n",
    "print(f'Raw Text: {\" \".join(raw_text)}\\n')\n",
    "print(f'Context: {context}\\n')\n",
    "print(f'Prediction: {ix_to_word[torch.argmax(a[0]).item()]}')\n",
    "conf=100*m.exp(max(a[0]))\n",
    "print(f'Confidence: {m.trunc(conf)}%')\n",
    "\n",
    "\n",
    "wordVec=[]\n",
    "for i in range(len(a[0])):\n",
    "    wordVec.append(i)\n",
    "plotVec=a.detach().numpy()\n",
    "plt.bar(wordVec,100*np.exp(plotVec[0]))\n",
    "plt.title('Probability Distribution')\n",
    "plt.xlabel('Embedded word in vocabulary')\n",
    "plt.ylabel('Probability (Confidence)')\n",
    "plt.show()"
   ]
  },
  {
   "cell_type": "markdown",
   "metadata": {},
   "source": [
    "RMS Prop was even more confident!"
   ]
  },
  {
   "cell_type": "markdown",
   "metadata": {},
   "source": [
    "## Conclusion\n",
    "Now that I have thuroughly investigated the fundamentals of PyTorch and Continuous Bag of Words, I will bring my skills into collaboration with the whole Reign Team on our collaborative portion of the project. With my knowledge of \"pretraining\" data with CBOW, I can integrate CBOW with a CNN or RNN and see how this improves the training efficiency and accuracy of the models we create. Another cool application that I did not get to implemenet this week is comparing CBOW to Skip-Gram, which essentially follows the opposite process. I prioritized CNN and RNN integrations here because I know from experience these are the more important concepts."
   ]
  },
  {
   "cell_type": "code",
   "execution_count": null,
   "metadata": {},
   "outputs": [],
   "source": []
  }
 ],
 "metadata": {
  "kernelspec": {
   "display_name": "Python 3",
   "language": "python",
   "name": "python3"
  },
  "language_info": {
   "codemirror_mode": {
    "name": "ipython",
    "version": 3
   },
   "file_extension": ".py",
   "mimetype": "text/x-python",
   "name": "python",
   "nbconvert_exporter": "python",
   "pygments_lexer": "ipython3",
   "version": "3.8.2"
  }
 },
 "nbformat": 4,
 "nbformat_minor": 4
}
