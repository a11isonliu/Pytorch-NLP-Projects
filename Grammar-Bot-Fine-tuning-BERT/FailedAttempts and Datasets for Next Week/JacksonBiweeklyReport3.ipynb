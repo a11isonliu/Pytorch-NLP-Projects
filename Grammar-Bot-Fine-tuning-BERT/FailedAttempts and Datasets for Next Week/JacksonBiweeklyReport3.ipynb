{
 "cells": [
  {
   "cell_type": "markdown",
   "id": "fd0058a3",
   "metadata": {},
   "source": [
    "# Creating Bert"
   ]
  },
  {
   "cell_type": "code",
   "execution_count": 1,
   "id": "c2a0da38",
   "metadata": {},
   "outputs": [],
   "source": [
    "#Imports:\n",
    "#General Imports\n",
    "import re\n",
    "import os\n",
    "import numpy as np\n",
    "import pandas as pd\n",
    "import random\n",
    "import math\n",
    "import time\n",
    "import spacy\n",
    "\n",
    "#Visualization Imports\n",
    "import seaborn as sns\n",
    "import matplotlib.pyplot as plt\n",
    "\n",
    "#All Imports for Pytorch\n",
    "import torch\n",
    "import torch.nn as nn\n",
    "import torch.optim as optim"
   ]
  },
  {
   "cell_type": "code",
   "execution_count": 2,
   "id": "0bd9a5db",
   "metadata": {},
   "outputs": [],
   "source": [
    "text = (\n",
    "       'Hello, how are you? I am Romeo.\\n'\n",
    "       'Hello, Romeo My name is Juliet. Nice to meet you.\\n'\n",
    "       'Nice meet you too. How are you today?\\n'\n",
    "       'Great. My baseball team won the competition.\\n'\n",
    "       'Oh Congratulations, Juliet\\n'\n",
    "       'Thanks you Romeo'\n",
    "   )"
   ]
  },
  {
   "cell_type": "code",
   "execution_count": 3,
   "id": "ad24b8b9",
   "metadata": {},
   "outputs": [],
   "source": [
    "import re\n",
    "sentences = re.sub(\"[.,!?\\\\-]\", '', text.lower()).split('\\n')  # filter '.', ',', '?', '!'\n",
    "word_list = list(set(\" \".join(sentences).split()))"
   ]
  },
  {
   "cell_type": "code",
   "execution_count": 4,
   "id": "83f09a0c",
   "metadata": {},
   "outputs": [],
   "source": [
    "word_dict = {'[PAD]': 0, '[CLS]': 1, '[SEP]': 2, '[MASK]': 3}\n",
    "for i, w in enumerate(word_list):\n",
    "   word_dict[w] = i + 4\n",
    "   number_dict = {i: w for i, w in enumerate(word_dict)}\n",
    "   vocab_size = len(word_dict)"
   ]
  },
  {
   "cell_type": "code",
   "execution_count": 5,
   "id": "f1976873",
   "metadata": {},
   "outputs": [],
   "source": [
    "def make_batch():\n",
    "   batch = []\n",
    "   positive = negative = 0\n",
    "   while positive != batch_size/2 or negative != batch_size/2:\n",
    "       tokens_a_index, tokens_b_index= randrange(len(sentences)), randrange(len(sentences)) \n",
    "\n",
    "       tokens_a, tokens_b= token_list[tokens_a_index], token_list[tokens_b_index]\n",
    "\n",
    "       input_ids = [word_dict['[CLS]']] + tokens_a + [word_dict['[SEP]']] + tokens_b + [word_dict['[SEP]']]\n",
    "\n",
    "\n",
    "       segment_ids = [0] * (1 + len(tokens_a) + 1) + [1] * (len(tokens_b) + 1)\n",
    "\n",
    "       # MASK LM\n",
    "       n_pred =  min(max_pred, max(1, int(round(len(input_ids) * 0.15)))) # 15 % of tokens in one sentence\n",
    "       cand_maked_pos = [i for i, token in enumerate(input_ids)\n",
    "                         if token != word_dict['[CLS]'] and token != word_dict['[SEP]']]\n",
    "       shuffle(cand_maked_pos)\n",
    "       masked_tokens, masked_pos = [], []\n",
    "       for pos in cand_maked_pos[:n_pred]:\n",
    "           masked_pos.append(pos)\n",
    "           masked_tokens.append(input_ids[pos])\n",
    "           if random() < 0.8:  # 80%\n",
    "               input_ids[pos] = word_dict['[MASK]'] # make mask\n",
    "           elif random() < 0.5:  # 10%\n",
    "               index = randint(0, vocab_size - 1) # random index in vocabulary\n",
    "               input_ids[pos] = word_dict[number_dict[index]] # replace\n",
    "\n",
    "       # Zero Paddings\n",
    "       n_pad = maxlen - len(input_ids)\n",
    "       input_ids.extend([0] * n_pad)\n",
    "       segment_ids.extend([0] * n_pad)\n",
    "\n",
    "       # Zero Padding (100% - 15%) tokens\n",
    "       if max_pred > n_pred:\n",
    "           n_pad = max_pred - n_pred\n",
    "           masked_tokens.extend([0] * n_pad)\n",
    "           masked_pos.extend([0] * n_pad)\n",
    "\n",
    "       if tokens_a_index + 1 == tokens_b_index and positive < batch_size/2:\n",
    "           batch.append([input_ids, segment_ids, masked_tokens, masked_pos, True]) # IsNext\n",
    "           positive += 1\n",
    "       elif tokens_a_index + 1 != tokens_b_index and negative < batch_size/2:\n",
    "           batch.append([input_ids, segment_ids, masked_tokens, masked_pos, False]) # NotNext\n",
    "           negative += 1\n",
    "   return batch"
   ]
  },
  {
   "cell_type": "code",
   "execution_count": 6,
   "id": "62c661e7",
   "metadata": {},
   "outputs": [
    {
     "ename": "NameError",
     "evalue": "name 'input_ids' is not defined",
     "output_type": "error",
     "traceback": [
      "\u001b[0;31m---------------------------------------------------------------------------\u001b[0m",
      "\u001b[0;31mNameError\u001b[0m                                 Traceback (most recent call last)",
      "\u001b[0;32m/var/folders/5k/n63q8zy901g99zjtbg4hhpb00000gn/T/ipykernel_14875/1745342403.py\u001b[0m in \u001b[0;36m<module>\u001b[0;34m\u001b[0m\n\u001b[0;32m----> 1\u001b[0;31m \u001b[0mprint\u001b[0m\u001b[0;34m(\u001b[0m\u001b[0mtorch\u001b[0m\u001b[0;34m.\u001b[0m\u001b[0marange\u001b[0m\u001b[0;34m(\u001b[0m\u001b[0;36m30\u001b[0m\u001b[0;34m,\u001b[0m \u001b[0mdtype\u001b[0m\u001b[0;34m=\u001b[0m\u001b[0mtorch\u001b[0m\u001b[0;34m.\u001b[0m\u001b[0mlong\u001b[0m\u001b[0;34m)\u001b[0m\u001b[0;34m.\u001b[0m\u001b[0mexpand_as\u001b[0m\u001b[0;34m(\u001b[0m\u001b[0minput_ids\u001b[0m\u001b[0;34m)\u001b[0m\u001b[0;34m)\u001b[0m\u001b[0;34m\u001b[0m\u001b[0;34m\u001b[0m\u001b[0m\n\u001b[0m",
      "\u001b[0;31mNameError\u001b[0m: name 'input_ids' is not defined"
     ]
    }
   ],
   "source": [
    "print(torch.arange(30, dtype=torch.long).expand_as(input_ids))"
   ]
  },
  {
   "cell_type": "code",
   "execution_count": 7,
   "id": "730a580f",
   "metadata": {},
   "outputs": [],
   "source": [
    "class Embedding(nn.Module):\n",
    "   def __init__(self):\n",
    "       super(Embedding, self).__init__()\n",
    "       self.tok_embed = nn.Embedding(vocab_size, d_model)  # token embedding\n",
    "       self.pos_embed = nn.Embedding(maxlen, d_model)  # position embedding\n",
    "       self.seg_embed = nn.Embedding(n_segments, d_model)  # segment(token type) embedding\n",
    "       self.norm = nn.LayerNorm(d_model)\n",
    "\n",
    "   def forward(self, x, seg):\n",
    "       seq_len = x.size(1)\n",
    "       pos = torch.arange(seq_len, dtype=torch.long)\n",
    "       pos = pos.unsqueeze(0).expand_as(x)  # (seq_len,) -> (batch_size, seq_len)\n",
    "       embedding = self.tok_embed(x) + self.pos_embed(pos) + self.seg_embed(seg)\n",
    "       return self.norm(embedding)"
   ]
  },
  {
   "cell_type": "code",
   "execution_count": 8,
   "id": "aacdf9a0",
   "metadata": {},
   "outputs": [],
   "source": [
    "def get_attn_pad_mask(seq_q, seq_k):\n",
    "   batch_size, len_q = seq_q.size()\n",
    "   batch_size, len_k = seq_k.size()\n",
    "   # eq(zero) is PAD token\n",
    "   pad_attn_mask = seq_k.data.eq(0).unsqueeze(1)  # batch_size x 1 x len_k(=len_q), one is masking\n",
    "   return pad_attn_mask.expand(batch_size, len_q, len_k)  # batch_size x len_q x len_k\n"
   ]
  },
  {
   "cell_type": "code",
   "execution_count": 9,
   "id": "ae1810a8",
   "metadata": {},
   "outputs": [
    {
     "ename": "NameError",
     "evalue": "name 'input_ids' is not defined",
     "output_type": "error",
     "traceback": [
      "\u001b[0;31m---------------------------------------------------------------------------\u001b[0m",
      "\u001b[0;31mNameError\u001b[0m                                 Traceback (most recent call last)",
      "\u001b[0;32m/var/folders/5k/n63q8zy901g99zjtbg4hhpb00000gn/T/ipykernel_14875/2374955458.py\u001b[0m in \u001b[0;36m<module>\u001b[0;34m\u001b[0m\n\u001b[0;32m----> 1\u001b[0;31m \u001b[0mprint\u001b[0m\u001b[0;34m(\u001b[0m\u001b[0mget_attn_pad_mask\u001b[0m\u001b[0;34m(\u001b[0m\u001b[0minput_ids\u001b[0m\u001b[0;34m,\u001b[0m \u001b[0minput_ids\u001b[0m\u001b[0;34m)\u001b[0m\u001b[0;34m[\u001b[0m\u001b[0;36m0\u001b[0m\u001b[0;34m]\u001b[0m\u001b[0;34m[\u001b[0m\u001b[0;36m0\u001b[0m\u001b[0;34m]\u001b[0m\u001b[0;34m,\u001b[0m \u001b[0minput_ids\u001b[0m\u001b[0;34m[\u001b[0m\u001b[0;36m0\u001b[0m\u001b[0;34m]\u001b[0m\u001b[0;34m)\u001b[0m\u001b[0;34m\u001b[0m\u001b[0;34m\u001b[0m\u001b[0m\n\u001b[0m",
      "\u001b[0;31mNameError\u001b[0m: name 'input_ids' is not defined"
     ]
    }
   ],
   "source": [
    "print(get_attn_pad_mask(input_ids, input_ids)[0][0], input_ids[0])"
   ]
  },
  {
   "cell_type": "code",
   "execution_count": 10,
   "id": "c9e0a1da",
   "metadata": {},
   "outputs": [],
   "source": [
    "class EncoderLayer(nn.Module):\n",
    "   def __init__(self):\n",
    "       super(EncoderLayer, self).__init__()\n",
    "       self.enc_self_attn = MultiHeadAttention()\n",
    "       self.pos_ffn = PoswiseFeedForwardNet()\n",
    "\n",
    "   def forward(self, enc_inputs, enc_self_attn_mask):\n",
    "       enc_outputs, attn = self.enc_self_attn(enc_inputs, enc_inputs, enc_inputs, enc_self_attn_mask) # enc_inputs to same Q,K,V\n",
    "       enc_outputs = self.pos_ffn(enc_outputs) # enc_outputs: [batch_size x len_q x d_model]\n",
    "       return enc_outputs, attn"
   ]
  },
  {
   "cell_type": "code",
   "execution_count": 11,
   "id": "4d33c7ba",
   "metadata": {},
   "outputs": [
    {
     "ename": "SyntaxError",
     "evalue": "'return' outside function (3360086288.py, line 24)",
     "output_type": "error",
     "traceback": [
      "\u001b[0;36m  File \u001b[0;32m\"/var/folders/5k/n63q8zy901g99zjtbg4hhpb00000gn/T/ipykernel_14875/3360086288.py\"\u001b[0;36m, line \u001b[0;32m24\u001b[0m\n\u001b[0;31m    return nn.LayerNorm(d_model)(output + residual), attn # output: [batch_size x len_q x d_model]\u001b[0m\n\u001b[0m    ^\u001b[0m\n\u001b[0;31mSyntaxError\u001b[0m\u001b[0;31m:\u001b[0m 'return' outside function\n"
     ]
    }
   ],
   "source": [
    "class MultiHeadAttention(nn.Module):\n",
    "   def __init__(self):\n",
    "       super(MultiHeadAttention, self).__init__()\n",
    "       self.W_Q = nn.Linear(d_model, d_k * n_heads)\n",
    "       self.W_K = nn.Linear(d_model, d_k * n_heads)\n",
    "       self.W_V = nn.Linear(d_model, d_v * n_heads)\n",
    "\n",
    "   def forward(self, Q, K, V, attn_mask):\n",
    "       # q: [batch_size x len_q x d_model], k: [batch_size x len_k x d_model], v: [batch_size x len_k x d_model]\n",
    "       residual, batch_size = Q, Q.size(0)\n",
    "       # (B, S, D) -proj-> (B, S, D) -split-> (B, S, H, W) -trans-> (B, H, S, W)\n",
    "       q_s = self.W_Q(Q).view(batch_size, -1, n_heads, d_k).transpose(1,2)  # q_s: [batch_size x n_heads x len_q x d_k]\n",
    "       k_s = self.W_K(K).view(batch_size, -1, n_heads, d_k).transpose(1,2)  # k_s: [batch_size x n_heads x len_k x d_k]\n",
    "       v_s = self.W_V(V).view(batch_size, -1, n_heads, d_v).transpose(1,2)  # v_s: [batch_size x n_heads x len_k x d_v]\n",
    "\n",
    "       attn_mask = attn_mask.unsqueeze(1).repeat(1, n_heads, 1, 1) # attn_mask : [batch_size x n_heads x len_q x len_k]\n",
    "\n",
    "       # context: [batch_size x n_heads x len_q x d_v], attn: [batch_size x n_heads x len_q(=len_k) x len_k(=len_q)]\n",
    "       context, attn = ScaledDotProductAttention()(q_s, k_s, v_s, attn_mask)\n",
    "       context = context.transpose(1, 2).contiguous().view(batch_size, -1, n_heads * d_v) # context: [batch_size x len_q x n_heads * d_v]\n",
    "       output = nn.Linear(n_heads * d_v, d_model)(context)\n",
    "       \n",
    "\n",
    "return nn.LayerNorm(d_model)(output + residual), attn # output: [batch_size x len_q x d_model]"
   ]
  },
  {
   "cell_type": "code",
   "execution_count": 12,
   "id": "fba5f1f9",
   "metadata": {},
   "outputs": [],
   "source": [
    "class ScaledDotProductAttention(nn.Module):\n",
    "   def __init__(self):\n",
    "       super(ScaledDotProductAttention, self).__init__()\n",
    "\n",
    "   def forward(self, Q, K, V, attn_mask):\n",
    "       scores = torch.matmul(Q, K.transpose(-1, -2)) / np.sqrt(d_k) # scores : [batch_size x n_heads x len_q(=len_k) x len_k(=len_q)]\n",
    "       scores.masked_fill_(attn_mask, -1e9) # Fills elements of self tensor with value where mask is one.\n",
    "       attn = nn.Softmax(dim=-1)(scores)\n",
    "       context = torch.matmul(attn, V)\n",
    "       return score, context, attn"
   ]
  },
  {
   "cell_type": "code",
   "execution_count": 13,
   "id": "ec648087",
   "metadata": {},
   "outputs": [
    {
     "ename": "NameError",
     "evalue": "name 'd_model' is not defined",
     "output_type": "error",
     "traceback": [
      "\u001b[0;31m---------------------------------------------------------------------------\u001b[0m",
      "\u001b[0;31mNameError\u001b[0m                                 Traceback (most recent call last)",
      "\u001b[0;32m/var/folders/5k/n63q8zy901g99zjtbg4hhpb00000gn/T/ipykernel_14875/3283433178.py\u001b[0m in \u001b[0;36m<module>\u001b[0;34m\u001b[0m\n\u001b[0;32m----> 1\u001b[0;31m \u001b[0memb\u001b[0m \u001b[0;34m=\u001b[0m \u001b[0mEmbedding\u001b[0m\u001b[0;34m(\u001b[0m\u001b[0;34m)\u001b[0m\u001b[0;34m\u001b[0m\u001b[0;34m\u001b[0m\u001b[0m\n\u001b[0m\u001b[1;32m      2\u001b[0m \u001b[0membeds\u001b[0m \u001b[0;34m=\u001b[0m \u001b[0memb\u001b[0m\u001b[0;34m(\u001b[0m\u001b[0minput_ids\u001b[0m\u001b[0;34m,\u001b[0m \u001b[0msegment_ids\u001b[0m\u001b[0;34m)\u001b[0m\u001b[0;34m\u001b[0m\u001b[0;34m\u001b[0m\u001b[0m\n\u001b[1;32m      3\u001b[0m \u001b[0;34m\u001b[0m\u001b[0m\n\u001b[1;32m      4\u001b[0m \u001b[0mattenM\u001b[0m \u001b[0;34m=\u001b[0m \u001b[0mget_attn_pad_mask\u001b[0m\u001b[0;34m(\u001b[0m\u001b[0minput_ids\u001b[0m\u001b[0;34m,\u001b[0m \u001b[0minput_ids\u001b[0m\u001b[0;34m)\u001b[0m\u001b[0;34m\u001b[0m\u001b[0;34m\u001b[0m\u001b[0m\n\u001b[1;32m      5\u001b[0m \u001b[0;34m\u001b[0m\u001b[0m\n",
      "\u001b[0;32m/var/folders/5k/n63q8zy901g99zjtbg4hhpb00000gn/T/ipykernel_14875/477821872.py\u001b[0m in \u001b[0;36m__init__\u001b[0;34m(self)\u001b[0m\n\u001b[1;32m      2\u001b[0m    \u001b[0;32mdef\u001b[0m \u001b[0m__init__\u001b[0m\u001b[0;34m(\u001b[0m\u001b[0mself\u001b[0m\u001b[0;34m)\u001b[0m\u001b[0;34m:\u001b[0m\u001b[0;34m\u001b[0m\u001b[0;34m\u001b[0m\u001b[0m\n\u001b[1;32m      3\u001b[0m        \u001b[0msuper\u001b[0m\u001b[0;34m(\u001b[0m\u001b[0mEmbedding\u001b[0m\u001b[0;34m,\u001b[0m \u001b[0mself\u001b[0m\u001b[0;34m)\u001b[0m\u001b[0;34m.\u001b[0m\u001b[0m__init__\u001b[0m\u001b[0;34m(\u001b[0m\u001b[0;34m)\u001b[0m\u001b[0;34m\u001b[0m\u001b[0;34m\u001b[0m\u001b[0m\n\u001b[0;32m----> 4\u001b[0;31m        \u001b[0mself\u001b[0m\u001b[0;34m.\u001b[0m\u001b[0mtok_embed\u001b[0m \u001b[0;34m=\u001b[0m \u001b[0mnn\u001b[0m\u001b[0;34m.\u001b[0m\u001b[0mEmbedding\u001b[0m\u001b[0;34m(\u001b[0m\u001b[0mvocab_size\u001b[0m\u001b[0;34m,\u001b[0m \u001b[0md_model\u001b[0m\u001b[0;34m)\u001b[0m  \u001b[0;31m# token embedding\u001b[0m\u001b[0;34m\u001b[0m\u001b[0;34m\u001b[0m\u001b[0m\n\u001b[0m\u001b[1;32m      5\u001b[0m        \u001b[0mself\u001b[0m\u001b[0;34m.\u001b[0m\u001b[0mpos_embed\u001b[0m \u001b[0;34m=\u001b[0m \u001b[0mnn\u001b[0m\u001b[0;34m.\u001b[0m\u001b[0mEmbedding\u001b[0m\u001b[0;34m(\u001b[0m\u001b[0mmaxlen\u001b[0m\u001b[0;34m,\u001b[0m \u001b[0md_model\u001b[0m\u001b[0;34m)\u001b[0m  \u001b[0;31m# position embedding\u001b[0m\u001b[0;34m\u001b[0m\u001b[0;34m\u001b[0m\u001b[0m\n\u001b[1;32m      6\u001b[0m        \u001b[0mself\u001b[0m\u001b[0;34m.\u001b[0m\u001b[0mseg_embed\u001b[0m \u001b[0;34m=\u001b[0m \u001b[0mnn\u001b[0m\u001b[0;34m.\u001b[0m\u001b[0mEmbedding\u001b[0m\u001b[0;34m(\u001b[0m\u001b[0mn_segments\u001b[0m\u001b[0;34m,\u001b[0m \u001b[0md_model\u001b[0m\u001b[0;34m)\u001b[0m  \u001b[0;31m# segment(token type) embedding\u001b[0m\u001b[0;34m\u001b[0m\u001b[0;34m\u001b[0m\u001b[0m\n",
      "\u001b[0;31mNameError\u001b[0m: name 'd_model' is not defined"
     ]
    }
   ],
   "source": [
    "emb = Embedding()\n",
    "embeds = emb(input_ids, segment_ids)\n",
    "\n",
    "attenM = get_attn_pad_mask(input_ids, input_ids)\n",
    "\n",
    "SDPA= ScaledDotProductAttention()(embeds, embeds, embeds, attenM)\n",
    "\n",
    "S, C, A = SDPA\n",
    "\n",
    "print('Masks',masks[0][0])\n",
    "print()\n",
    "print('Scores: ', S[0][0],'\\n\\nAttention Scores after softmax: ', A[0][0])\n"
   ]
  },
  {
   "cell_type": "code",
   "execution_count": 14,
   "id": "109f8062",
   "metadata": {},
   "outputs": [],
   "source": [
    "class BERT(nn.Module):\n",
    "   def __init__(self):\n",
    "       super(BERT, self).__init__()\n",
    "       self.embedding = Embedding()\n",
    "       self.layers = nn.ModuleList([EncoderLayer() for _ in range(n_layers)])\n",
    "       self.fc = nn.Linear(d_model, d_model)\n",
    "       self.activ1 = nn.Tanh()\n",
    "       self.linear = nn.Linear(d_model, d_model)\n",
    "       self.activ2 = gelu\n",
    "       self.norm = nn.LayerNorm(d_model)\n",
    "       self.classifier = nn.Linear(d_model, 2)\n",
    "       # decoder is shared with embedding layer\n",
    "       embed_weight = self.embedding.tok_embed.weight\n",
    "       n_vocab, n_dim = embed_weight.size()\n",
    "       self.decoder = nn.Linear(n_dim, n_vocab, bias=False)\n",
    "       self.decoder.weight = embed_weight\n",
    "       self.decoder_bias = nn.Parameter(torch.zeros(n_vocab))\n",
    "\n",
    "   def forward(self, input_ids, segment_ids, masked_pos):\n",
    "       output = self.embedding(input_ids, segment_ids)\n",
    "       enc_self_attn_mask = get_attn_pad_mask(input_ids, input_ids)\n",
    "       for layer in self.layers:\n",
    "           output, enc_self_attn = layer(output, enc_self_attn_mask)\n",
    "       # output : [batch_size, len, d_model], attn : [batch_size, n_heads, d_mode, d_model]\n",
    "       # it will be decided by first token(CLS)\n",
    "       h_pooled = self.activ1(self.fc(output[:, 0])) # [batch_size, d_model]\n",
    "       logits_clsf = self.classifier(h_pooled) # [batch_size, 2]\n",
    "\n",
    "       masked_pos = masked_pos[:, :, None].expand(-1, -1, output.size(-1)) # [batch_size, max_pred, d_model]\n",
    "\n",
    "       # get masked position from final output of transformer.\n",
    "       h_masked = torch.gather(output, 1, masked_pos) # masking position [batch_size, max_pred, d_model]\n",
    "       h_masked = self.norm(self.activ2(self.linear(h_masked)))\n",
    "       logits_lm = self.decoder(h_masked) + self.decoder_bias # [batch_size, max_pred, n_vocab]\n",
    "\n",
    "       return logits_lm, logits_clsf"
   ]
  },
  {
   "cell_type": "code",
   "execution_count": 15,
   "id": "acfc3323",
   "metadata": {},
   "outputs": [],
   "source": [
    "def gelu(x):\n",
    "   return x * 0.5 * (1.0 + torch.erf(x / math.sqrt(2.0)))\n"
   ]
  },
  {
   "cell_type": "code",
   "execution_count": 16,
   "id": "02fdfa26",
   "metadata": {},
   "outputs": [
    {
     "ename": "NameError",
     "evalue": "name 'model' is not defined",
     "output_type": "error",
     "traceback": [
      "\u001b[0;31m---------------------------------------------------------------------------\u001b[0m",
      "\u001b[0;31mNameError\u001b[0m                                 Traceback (most recent call last)",
      "\u001b[0;32m/var/folders/5k/n63q8zy901g99zjtbg4hhpb00000gn/T/ipykernel_14875/2366112511.py\u001b[0m in \u001b[0;36m<module>\u001b[0;34m\u001b[0m\n\u001b[1;32m      1\u001b[0m \u001b[0mcriterion\u001b[0m \u001b[0;34m=\u001b[0m \u001b[0mnn\u001b[0m\u001b[0;34m.\u001b[0m\u001b[0mCrossEntropyLoss\u001b[0m\u001b[0;34m(\u001b[0m\u001b[0;34m)\u001b[0m\u001b[0;34m\u001b[0m\u001b[0;34m\u001b[0m\u001b[0m\n\u001b[0;32m----> 2\u001b[0;31m \u001b[0moptimizer\u001b[0m \u001b[0;34m=\u001b[0m \u001b[0moptim\u001b[0m\u001b[0;34m.\u001b[0m\u001b[0mAdam\u001b[0m\u001b[0;34m(\u001b[0m\u001b[0mmodel\u001b[0m\u001b[0;34m.\u001b[0m\u001b[0mparameters\u001b[0m\u001b[0;34m(\u001b[0m\u001b[0;34m)\u001b[0m\u001b[0;34m,\u001b[0m \u001b[0mlr\u001b[0m\u001b[0;34m=\u001b[0m\u001b[0;36m0.001\u001b[0m\u001b[0;34m)\u001b[0m\u001b[0;34m\u001b[0m\u001b[0;34m\u001b[0m\u001b[0m\n\u001b[0m",
      "\u001b[0;31mNameError\u001b[0m: name 'model' is not defined"
     ]
    }
   ],
   "source": [
    "criterion = nn.CrossEntropyLoss()\n",
    "optimizer = optim.Adam(model.parameters(), lr=0.001)"
   ]
  },
  {
   "cell_type": "code",
   "execution_count": 17,
   "id": "3279b067",
   "metadata": {},
   "outputs": [
    {
     "ename": "IndentationError",
     "evalue": "unexpected indent (2556804524.py, line 5)",
     "output_type": "error",
     "traceback": [
      "\u001b[0;36m  File \u001b[0;32m\"/var/folders/5k/n63q8zy901g99zjtbg4hhpb00000gn/T/ipykernel_14875/2556804524.py\"\u001b[0;36m, line \u001b[0;32m5\u001b[0m\n\u001b[0;31m    for epoch in range(100):\u001b[0m\n\u001b[0m    ^\u001b[0m\n\u001b[0;31mIndentationError\u001b[0m\u001b[0;31m:\u001b[0m unexpected indent\n"
     ]
    }
   ],
   "source": [
    "model = BERT()\n",
    "batch = make_batch()\n",
    "input_ids, segment_ids, masked_tokens, masked_pos, isNext = map(torch.LongTensor, zip(*batch))\n",
    "\n",
    "   for epoch in range(100):\n",
    "       optimizer.zero_grad()\n",
    "       logits_lm, logits_clsf = model(input_ids, segment_ids, masked_pos)\n",
    "       loss_lm = criterion(logits_lm.transpose(1, 2), masked_tokens) # for masked LM\n",
    "       loss_lm = (loss_lm.float()).mean()\n",
    "       loss_clsf = criterion(logits_clsf, isNext) # for sentence classification\n",
    "       loss = loss_lm + loss_clsf\n",
    "       if (epoch + 1) % 10 == 0:\n",
    "           print('Epoch:', '%04d' % (epoch + 1), 'cost =', '{:.6f}'.format(loss))\n",
    "       loss.backward()\n",
    "       optimizer.step()\n",
    "\n",
    "   # Predict mask tokens\n",
    "   input_ids, segment_ids, masked_tokens, masked_pos, isNext = map(torch.LongTensor, zip(batch[0]))\n",
    "   print(text)\n",
    "   print([number_dict[w.item()] for w in input_ids[0] if number_dict[w.item()] != '[PAD]'])\n",
    "\n",
    "   logits_lm, logits_clsf = model(input_ids, segment_ids, masked_pos)\n",
    "   logits_lm = logits_lm.data.max(2)[1][0].data.numpy()\n",
    "   print('masked tokens list : ',[pos.item() for pos in masked_tokens[0] if pos.item() != 0])\n",
    "   print('predict masked tokens list : ',[pos for pos in logits_lm if pos != 0])\n",
    "\n",
    "   logits_clsf = logits_clsf.data.max(1)[1].data.numpy()[0]\n",
    "   print('isNext : ', True if isNext else False)\n",
    "   print('predict isNext : ',True if logits_clsf else False)"
   ]
  },
  {
   "cell_type": "code",
   "execution_count": 18,
   "id": "b8ec4e82",
   "metadata": {},
   "outputs": [
    {
     "ename": "ModuleNotFoundError",
     "evalue": "No module named 'transformers'",
     "output_type": "error",
     "traceback": [
      "\u001b[0;31m---------------------------------------------------------------------------\u001b[0m",
      "\u001b[0;31mModuleNotFoundError\u001b[0m                       Traceback (most recent call last)",
      "\u001b[0;32m/var/folders/5k/n63q8zy901g99zjtbg4hhpb00000gn/T/ipykernel_14875/2208718344.py\u001b[0m in \u001b[0;36m<module>\u001b[0;34m\u001b[0m\n\u001b[0;32m----> 1\u001b[0;31m \u001b[0;32mimport\u001b[0m \u001b[0mtransformers\u001b[0m\u001b[0;34m\u001b[0m\u001b[0;34m\u001b[0m\u001b[0m\n\u001b[0m\u001b[1;32m      2\u001b[0m \u001b[0;34m\u001b[0m\u001b[0m\n\u001b[1;32m      3\u001b[0m \u001b[0;32mclass\u001b[0m \u001b[0mBERTClassification\u001b[0m\u001b[0;34m(\u001b[0m\u001b[0mnn\u001b[0m\u001b[0;34m.\u001b[0m\u001b[0mModule\u001b[0m\u001b[0;34m)\u001b[0m\u001b[0;34m:\u001b[0m\u001b[0;34m\u001b[0m\u001b[0;34m\u001b[0m\u001b[0m\n\u001b[1;32m      4\u001b[0m     \u001b[0;32mdef\u001b[0m \u001b[0m__init__\u001b[0m \u001b[0;34m(\u001b[0m\u001b[0mself\u001b[0m\u001b[0;34m)\u001b[0m\u001b[0;34m:\u001b[0m\u001b[0;34m\u001b[0m\u001b[0;34m\u001b[0m\u001b[0m\n\u001b[1;32m      5\u001b[0m         \u001b[0msuper\u001b[0m\u001b[0;34m(\u001b[0m\u001b[0mBERTClassification\u001b[0m\u001b[0;34m,\u001b[0m \u001b[0mself\u001b[0m\u001b[0;34m)\u001b[0m\u001b[0;34m.\u001b[0m\u001b[0m__init__\u001b[0m\u001b[0;34m(\u001b[0m\u001b[0;34m)\u001b[0m\u001b[0;34m\u001b[0m\u001b[0;34m\u001b[0m\u001b[0m\n",
      "\u001b[0;31mModuleNotFoundError\u001b[0m: No module named 'transformers'"
     ]
    }
   ],
   "source": [
    "import transformers\n",
    "\n",
    "class BERTClassification(nn.Module):\n",
    "    def __init__ (self):\n",
    "        super(BERTClassification, self).__init__()\n",
    "        self.bert = transformers.BertModel.from_pretrained('bert-base-cased')\n",
    "        self.bert_drop = nn.Dropout(0.4)\n",
    "        self.out = nn.Linear(768, 1)\n",
    "        \n",
    "    def forward(self, ids, mask, token_type_ids):\n",
    "        _, pooledOut = self.bert(ids, attention_mask = mask,\n",
    "                                token_type_ids=token_type_ids)\n",
    "        bertOut = self.bert_drop(pooledOut)\n",
    "        output = self.out(bertOut)\n",
    "        \n",
    "        return output"
   ]
  },
  {
   "cell_type": "code",
   "execution_count": null,
   "id": "ad68d561",
   "metadata": {},
   "outputs": [],
   "source": []
  }
 ],
 "metadata": {
  "kernelspec": {
   "display_name": "Python 3 (ipykernel)",
   "language": "python",
   "name": "python3"
  },
  "language_info": {
   "codemirror_mode": {
    "name": "ipython",
    "version": 3
   },
   "file_extension": ".py",
   "mimetype": "text/x-python",
   "name": "python",
   "nbconvert_exporter": "python",
   "pygments_lexer": "ipython3",
   "version": "3.9.6"
  }
 },
 "nbformat": 4,
 "nbformat_minor": 5
}
