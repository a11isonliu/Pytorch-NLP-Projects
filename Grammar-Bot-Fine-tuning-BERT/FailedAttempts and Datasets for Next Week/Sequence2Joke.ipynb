{
 "cells": [
  {
   "cell_type": "markdown",
   "id": "f22e6ce5",
   "metadata": {},
   "source": [
    "# This Will Be the Second Part of Our Meme Generator\n",
    "### Input: Sequence description that was created from our few shot learning model\n",
    "### Output: Sequence response that is a joke.  This sequence will then be placed on top of the original input picture to create the completed meme! "
   ]
  },
  {
   "cell_type": "code",
   "execution_count": null,
   "id": "083e3b13",
   "metadata": {},
   "outputs": [],
   "source": []
  }
 ],
 "metadata": {
  "kernelspec": {
   "display_name": "Python 3 (ipykernel)",
   "language": "python",
   "name": "python3"
  },
  "language_info": {
   "codemirror_mode": {
    "name": "ipython",
    "version": 3
   },
   "file_extension": ".py",
   "mimetype": "text/x-python",
   "name": "python",
   "nbconvert_exporter": "python",
   "pygments_lexer": "ipython3",
   "version": "3.9.6"
  }
 },
 "nbformat": 4,
 "nbformat_minor": 5
}
